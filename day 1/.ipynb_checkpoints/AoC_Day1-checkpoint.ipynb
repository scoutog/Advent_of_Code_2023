{
 "cells": [
  {
   "cell_type": "code",
   "execution_count": 1,
   "id": "8473fb36",
   "metadata": {},
   "outputs": [],
   "source": [
    "import pandas as pd\n",
    "import re\n",
    "df = pd.read_csv(\"advent_code_day1.csv\")"
   ]
  },
  {
   "cell_type": "code",
   "execution_count": 3,
   "id": "c0b7c1e9",
   "metadata": {},
   "outputs": [
    {
     "data": {
      "text/html": [
       "<div>\n",
       "<style scoped>\n",
       "    .dataframe tbody tr th:only-of-type {\n",
       "        vertical-align: middle;\n",
       "    }\n",
       "\n",
       "    .dataframe tbody tr th {\n",
       "        vertical-align: top;\n",
       "    }\n",
       "\n",
       "    .dataframe thead th {\n",
       "        text-align: right;\n",
       "    }\n",
       "</style>\n",
       "<table border=\"1\" class=\"dataframe\">\n",
       "  <thead>\n",
       "    <tr style=\"text-align: right;\">\n",
       "      <th></th>\n",
       "      <th>INPUT</th>\n",
       "    </tr>\n",
       "  </thead>\n",
       "  <tbody>\n",
       "    <tr>\n",
       "      <th>0</th>\n",
       "      <td>rhqrpdxsqhgxzknr2foursnrcfthree</td>\n",
       "    </tr>\n",
       "  </tbody>\n",
       "</table>\n",
       "</div>"
      ],
      "text/plain": [
       "                             INPUT\n",
       "0  rhqrpdxsqhgxzknr2foursnrcfthree"
      ]
     },
     "execution_count": 3,
     "metadata": {},
     "output_type": "execute_result"
    }
   ],
   "source": [
    "df = df.iloc[0:1,]\n",
    "df"
   ]
  },
  {
   "cell_type": "code",
   "execution_count": 2,
   "id": "020b8a20",
   "metadata": {},
   "outputs": [],
   "source": [
    "numsWritten = ['zero','one','two','three','four','five','six','seven','eight','nine']\n",
    "numsNum = [0,1,2,3,4,5,6,7,8,9]\n",
    "all_nums = []\n",
    "\n",
    "for index, row in df.iterrows():\n",
    "    row_dict = {}\n",
    "    words_found_dict = {}\n",
    "    string = row['INPUT']\n",
    "    \n",
    "#     for word in numsWritten:\n",
    "#         if word in string:\n",
    "#             start_index = string.find(word)\n",
    "#             end_index = start_index + len(word) - 1\n",
    "#             words_found_dict[end_index] = word\n",
    "\n",
    "    for word in numsWritten:\n",
    "        for m in re.finditer(word, string):\n",
    "            end_index = m.end()-1\n",
    "            words_found_dict[end_index] = word\n",
    "\n",
    "    for position, value in enumerate(string):\n",
    "        if value.isdigit():\n",
    "            row_dict[position] = value\n",
    "    \n",
    "    for key in words_found_dict:\n",
    "        words_found_dict[key] = str(numsWritten.index(words_found_dict[key]))\n",
    "        \n",
    "    row_dict.update(words_found_dict)\n",
    "    \n",
    "    first_num_pos = min(list(row_dict.keys()))\n",
    "    last_num_pos = max(list(row_dict.keys()))\n",
    "    \n",
    "    all_nums.append(int(row_dict[first_num_pos] + row_dict[last_num_pos]))"
   ]
  },
  {
   "cell_type": "code",
   "execution_count": 3,
   "id": "697f56d2",
   "metadata": {},
   "outputs": [
    {
     "data": {
      "text/plain": [
       "54578"
      ]
     },
     "execution_count": 3,
     "metadata": {},
     "output_type": "execute_result"
    }
   ],
   "source": [
    "sum(all_nums)"
   ]
  },
  {
   "cell_type": "code",
   "execution_count": null,
   "id": "12ecb263",
   "metadata": {},
   "outputs": [],
   "source": []
  }
 ],
 "metadata": {
  "kernelspec": {
   "display_name": "Python 3 (ipykernel)",
   "language": "python",
   "name": "python3"
  },
  "language_info": {
   "codemirror_mode": {
    "name": "ipython",
    "version": 3
   },
   "file_extension": ".py",
   "mimetype": "text/x-python",
   "name": "python",
   "nbconvert_exporter": "python",
   "pygments_lexer": "ipython3",
   "version": "3.9.12"
  }
 },
 "nbformat": 4,
 "nbformat_minor": 5
}
