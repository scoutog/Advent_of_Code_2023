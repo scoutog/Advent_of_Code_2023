{
 "cells": [
  {
   "cell_type": "code",
   "execution_count": 9,
   "id": "8473fb36",
   "metadata": {},
   "outputs": [],
   "source": [
    "import pandas as pd\n",
    "import re\n",
    "df = pd.read_csv(\"advent_code_day1_q.csv\")"
   ]
  },
  {
   "cell_type": "code",
   "execution_count": 10,
   "id": "c0b7c1e9",
   "metadata": {},
   "outputs": [
    {
     "data": {
      "text/html": [
       "<div>\n",
       "<style scoped>\n",
       "    .dataframe tbody tr th:only-of-type {\n",
       "        vertical-align: middle;\n",
       "    }\n",
       "\n",
       "    .dataframe tbody tr th {\n",
       "        vertical-align: top;\n",
       "    }\n",
       "\n",
       "    .dataframe thead th {\n",
       "        text-align: right;\n",
       "    }\n",
       "</style>\n",
       "<table border=\"1\" class=\"dataframe\">\n",
       "  <thead>\n",
       "    <tr style=\"text-align: right;\">\n",
       "      <th></th>\n",
       "      <th>INPUT</th>\n",
       "    </tr>\n",
       "  </thead>\n",
       "  <tbody>\n",
       "    <tr>\n",
       "      <th>0</th>\n",
       "      <td>5ffour295</td>\n",
       "    </tr>\n",
       "    <tr>\n",
       "      <th>1</th>\n",
       "      <td>m9qvkqlgfhtwo3seven4seven</td>\n",
       "    </tr>\n",
       "    <tr>\n",
       "      <th>2</th>\n",
       "      <td>2vdqng1sixzjlkjvq</td>\n",
       "    </tr>\n",
       "    <tr>\n",
       "      <th>3</th>\n",
       "      <td>5twonineeight3onefive</td>\n",
       "    </tr>\n",
       "    <tr>\n",
       "      <th>4</th>\n",
       "      <td>2three2seveneightseven</td>\n",
       "    </tr>\n",
       "    <tr>\n",
       "      <th>...</th>\n",
       "      <td>...</td>\n",
       "    </tr>\n",
       "    <tr>\n",
       "      <th>995</th>\n",
       "      <td>42onekfbgxgtzl7qxzrmqbmeight</td>\n",
       "    </tr>\n",
       "    <tr>\n",
       "      <th>996</th>\n",
       "      <td>7fjkfdlmhqxtwoxcpssngss</td>\n",
       "    </tr>\n",
       "    <tr>\n",
       "      <th>997</th>\n",
       "      <td>gsntbddbnone4cjqjmspzcsxmvvthreefive</td>\n",
       "    </tr>\n",
       "    <tr>\n",
       "      <th>998</th>\n",
       "      <td>56four4one2</td>\n",
       "    </tr>\n",
       "    <tr>\n",
       "      <th>999</th>\n",
       "      <td>cqmzqbxzfvonevmmmlxsnjr5zfg</td>\n",
       "    </tr>\n",
       "  </tbody>\n",
       "</table>\n",
       "<p>1000 rows × 1 columns</p>\n",
       "</div>"
      ],
      "text/plain": [
       "                                    INPUT\n",
       "0                               5ffour295\n",
       "1               m9qvkqlgfhtwo3seven4seven\n",
       "2                       2vdqng1sixzjlkjvq\n",
       "3                   5twonineeight3onefive\n",
       "4                  2three2seveneightseven\n",
       "..                                    ...\n",
       "995          42onekfbgxgtzl7qxzrmqbmeight\n",
       "996               7fjkfdlmhqxtwoxcpssngss\n",
       "997  gsntbddbnone4cjqjmspzcsxmvvthreefive\n",
       "998                           56four4one2\n",
       "999           cqmzqbxzfvonevmmmlxsnjr5zfg\n",
       "\n",
       "[1000 rows x 1 columns]"
      ]
     },
     "execution_count": 10,
     "metadata": {},
     "output_type": "execute_result"
    }
   ],
   "source": [
    "# df = df.iloc[0:1,]\n",
    "df"
   ]
  },
  {
   "cell_type": "code",
   "execution_count": 11,
   "id": "020b8a20",
   "metadata": {},
   "outputs": [],
   "source": [
    "numsWritten = ['zero','one','two','three','four','five','six','seven','eight','nine']\n",
    "numsNum = [0,1,2,3,4,5,6,7,8,9]\n",
    "all_nums = []\n",
    "\n",
    "for index, row in df.iterrows():\n",
    "    row_dict = {}\n",
    "    words_found_dict = {}\n",
    "    string = row['INPUT']\n",
    "    \n",
    "#     for word in numsWritten:\n",
    "#         if word in string:\n",
    "#             start_index = string.find(word)\n",
    "#             end_index = start_index + len(word) - 1\n",
    "#             words_found_dict[end_index] = word\n",
    "\n",
    "    for word in numsWritten:\n",
    "        for m in re.finditer(word, string):\n",
    "            end_index = m.end()-1\n",
    "            words_found_dict[end_index] = word\n",
    "\n",
    "    for position, value in enumerate(string):\n",
    "        if value.isdigit():\n",
    "            row_dict[position] = value\n",
    "    \n",
    "    for key in words_found_dict:\n",
    "        words_found_dict[key] = str(numsWritten.index(words_found_dict[key]))\n",
    "        \n",
    "    row_dict.update(words_found_dict)\n",
    "    \n",
    "    first_num_pos = min(list(row_dict.keys()))\n",
    "    last_num_pos = max(list(row_dict.keys()))\n",
    "    \n",
    "    all_nums.append(int(row_dict[first_num_pos] + row_dict[last_num_pos]))"
   ]
  },
  {
   "cell_type": "code",
   "execution_count": 12,
   "id": "697f56d2",
   "metadata": {},
   "outputs": [
    {
     "data": {
      "text/plain": [
       "53539"
      ]
     },
     "execution_count": 12,
     "metadata": {},
     "output_type": "execute_result"
    }
   ],
   "source": [
    "sum(all_nums)"
   ]
  },
  {
   "cell_type": "code",
   "execution_count": null,
   "id": "12ecb263",
   "metadata": {},
   "outputs": [],
   "source": []
  },
  {
   "cell_type": "code",
   "execution_count": null,
   "id": "02da3fa2",
   "metadata": {},
   "outputs": [],
   "source": []
  }
 ],
 "metadata": {
  "kernelspec": {
   "display_name": "Python 3 (ipykernel)",
   "language": "python",
   "name": "python3"
  },
  "language_info": {
   "codemirror_mode": {
    "name": "ipython",
    "version": 3
   },
   "file_extension": ".py",
   "mimetype": "text/x-python",
   "name": "python",
   "nbconvert_exporter": "python",
   "pygments_lexer": "ipython3",
   "version": "3.9.12"
  }
 },
 "nbformat": 4,
 "nbformat_minor": 5
}
