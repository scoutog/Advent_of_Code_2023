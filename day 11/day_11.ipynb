{
 "cells": [
  {
   "cell_type": "code",
   "execution_count": 65,
   "id": "a37bbe79",
   "metadata": {},
   "outputs": [],
   "source": [
    "import pandas as pd\n",
    "df = pd.read_csv('day11_data.csv')\n",
    "df = pd.DataFrame(df.Data.apply(list).tolist())"
   ]
  },
  {
   "cell_type": "code",
   "execution_count": 66,
   "id": "7b3a7e98",
   "metadata": {},
   "outputs": [],
   "source": [
    "a = df.values\n",
    "b = (a == a[:, [0]]).all(axis=1)\n",
    "s = pd.Series(b, index=df.index)\n",
    "t = s.to_list()\n",
    "blank_rows = [i for i, x in enumerate(t) if x]\n",
    "\n",
    "blank_cols = []\n",
    "for col in df.columns:\n",
    "    if '#' not in df[col].to_list():\n",
    "        blank_cols.append(col)"
   ]
  },
  {
   "cell_type": "code",
   "execution_count": 67,
   "id": "03c376ab",
   "metadata": {},
   "outputs": [],
   "source": [
    "for row in blank_rows:\n",
    "    df.loc[row+0.5] = '.'\n",
    "df = df.sort_index().reset_index(drop=True)\n",
    "\n",
    "for col in blank_cols:\n",
    "    df[col+0.5] = '.'\n",
    "df = df.reindex(sorted(df.columns), axis=1)\n",
    "df['Data'] = df[list(df.columns)].sum(axis=1)"
   ]
  },
  {
   "cell_type": "code",
   "execution_count": 68,
   "id": "f0e268f0",
   "metadata": {},
   "outputs": [],
   "source": [
    "i = 1\n",
    "counting_up = []\n",
    "while i <= 10:\n",
    "    counting_up.append(i)\n",
    "    i+=1"
   ]
  },
  {
   "cell_type": "code",
   "execution_count": 69,
   "id": "04f65243",
   "metadata": {},
   "outputs": [],
   "source": [
    "for i in range(len(blank_rows)):\n",
    "    blank_rows[i] = blank_rows[i]+counting_up[i]\n",
    "    \n",
    "for i in range(len(blank_cols)):\n",
    "    blank_cols[i] = blank_cols[i]+counting_up[i]"
   ]
  },
  {
   "cell_type": "code",
   "execution_count": 70,
   "id": "41888894",
   "metadata": {},
   "outputs": [],
   "source": [
    "land_mines = []\n",
    "land_mine_df = pd.DataFrame(columns=['row', 'position'])\n",
    "\n",
    "for index, row in df.iterrows():\n",
    "    current_row_string = row['Data']\n",
    "    \n",
    "    for position, value in enumerate(current_row_string):\n",
    "        if (str(value) != \".\"):\n",
    "            land_mines.append((index, position))\n",
    "            land_mine_df.loc[len(land_mine_df.index)] = [index, position] "
   ]
  },
  {
   "cell_type": "code",
   "execution_count": 71,
   "id": "0a3bdf99",
   "metadata": {},
   "outputs": [],
   "source": [
    "def distance(a, b):\n",
    "    million_counter = 0\n",
    "    \n",
    "    for blank_row in blank_rows:\n",
    "        if (a[0] < blank_row) & (b[0] > blank_row):\n",
    "            million_counter += 1\n",
    "        elif (a[0] > blank_row) & (b[0] < blank_row):\n",
    "            million_counter += 1\n",
    "        else:\n",
    "            pass\n",
    "        \n",
    "    for blank_col in blank_cols:\n",
    "        if (a[1] < blank_col) & (b[1] > blank_col):\n",
    "            million_counter += 1\n",
    "        elif (a[1] > blank_col) & (b[1] < blank_col):\n",
    "            million_counter += 1\n",
    "        else:\n",
    "            pass\n",
    "        \n",
    "    return abs(a[0] - b[0]) + abs(a[1] - b[1]) + (million_counter * (1000000-2))"
   ]
  },
  {
   "cell_type": "code",
   "execution_count": 72,
   "id": "8c444a30",
   "metadata": {},
   "outputs": [
    {
     "data": {
      "text/plain": [
       "406725732046"
      ]
     },
     "execution_count": 72,
     "metadata": {},
     "output_type": "execute_result"
    }
   ],
   "source": [
    "all_dists = []\n",
    "\n",
    "for i in range(len(land_mines)-1):\n",
    "    for m in land_mines[i+1:]:\n",
    "        all_dists.append(distance(land_mines[i], m))\n",
    "    \n",
    "sum(all_dists)"
   ]
  },
  {
   "cell_type": "code",
   "execution_count": null,
   "id": "2faf57bd",
   "metadata": {},
   "outputs": [],
   "source": []
  }
 ],
 "metadata": {
  "kernelspec": {
   "display_name": "Python 3 (ipykernel)",
   "language": "python",
   "name": "python3"
  },
  "language_info": {
   "codemirror_mode": {
    "name": "ipython",
    "version": 3
   },
   "file_extension": ".py",
   "mimetype": "text/x-python",
   "name": "python",
   "nbconvert_exporter": "python",
   "pygments_lexer": "ipython3",
   "version": "3.9.12"
  }
 },
 "nbformat": 4,
 "nbformat_minor": 5
}
