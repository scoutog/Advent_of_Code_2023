{
 "cells": [
  {
   "cell_type": "code",
   "execution_count": 1,
   "id": "191250d4",
   "metadata": {},
   "outputs": [],
   "source": [
    "import pandas as pd\n",
    "import re\n",
    "\n",
    "df = pd.read_csv('day3_data.csv')\n",
    "# df = pd.read_csv('day3_sample.csv')"
   ]
  },
  {
   "cell_type": "code",
   "execution_count": 2,
   "id": "bed93463",
   "metadata": {},
   "outputs": [],
   "source": [
    "land_mines = []\n",
    "land_mine_df = pd.DataFrame(columns=['row', 'position'])\n",
    "\n",
    "for index, row in df.iterrows():\n",
    "    current_row_string = row['Data']\n",
    "    \n",
    "    for position, value in enumerate(current_row_string):\n",
    "        if (not value.isdigit()) & (str(value) != \".\"):\n",
    "            land_mines.append((index, position))\n",
    "            \n",
    "            land_mine_df.loc[len(land_mine_df.index)] = [index, position] "
   ]
  },
  {
   "cell_type": "code",
   "execution_count": 3,
   "id": "d9816161",
   "metadata": {},
   "outputs": [],
   "source": [
    "numbers_dict = {}\n",
    "numbers_df = pd.DataFrame(columns=['Number', 'row', 'Start_Pos', 'End_Pos'])\n",
    "\n",
    "for index, row in df.iterrows():\n",
    "    current_row_string = row['Data']\n",
    "    \n",
    "    current_row_nums = []\n",
    "    current_row_nums.extend(re.findall(r'\\d+', current_row_string))\n",
    "    \n",
    "    start = 0 \n",
    "    counter = 0\n",
    "    \n",
    "    for num in current_row_nums:\n",
    "        for m in re.finditer(num, current_row_string):\n",
    "            if m.start() >= start:\n",
    "\n",
    "                if counter > len(current_row_nums) - 1:\n",
    "                    pass\n",
    "                \n",
    "                elif current_row_nums[counter] == m.group():\n",
    "                    start_index = m.start()\n",
    "                    end_index = m.end()-1\n",
    "                    numbers_dict[num] = (index,(start_index, end_index))\n",
    "\n",
    "                    numbers_df.loc[len(numbers_df.index)] = [num, index, start_index, end_index] \n",
    "\n",
    "                    start = m.end()#m.start()\n",
    "                    counter += 1"
   ]
  },
  {
   "cell_type": "code",
   "execution_count": 4,
   "id": "51be591e",
   "metadata": {},
   "outputs": [],
   "source": [
    "numbers_df['status'] = 'keep'\n",
    "\n",
    "for index, row in numbers_df.iterrows():\n",
    "    if (((row['Start_Pos'] - 1) in land_mine_df[land_mine_df['row']==row['row']]['position'].unique()) | \n",
    "        ((row['End_Pos'] + 1) in land_mine_df[land_mine_df['row']==row['row']]['position'].unique())):\n",
    "\n",
    "        numbers_df.iloc[index, 4] = \"delete\""
   ]
  },
  {
   "cell_type": "code",
   "execution_count": 5,
   "id": "306b259d",
   "metadata": {},
   "outputs": [],
   "source": [
    "for index, row in numbers_df.iterrows():\n",
    "#     if index == 0:\n",
    "#         pass\n",
    "    \n",
    "    if (((row['Start_Pos'] - 1) in land_mine_df[land_mine_df['row']==row['row']-1]['position'].unique()) | \n",
    "        ((row['End_Pos'] + 1) in land_mine_df[land_mine_df['row']==row['row']-1]['position'].unique())):\n",
    "\n",
    "        numbers_df.iloc[index, 4] = \"delete1\"\n",
    "\n",
    "    elif (((row['Start_Pos']) in land_mine_df[land_mine_df['row']==row['row']-1]['position'].unique()) | \n",
    "        ((row['End_Pos']) in land_mine_df[land_mine_df['row']==row['row']-1]['position'].unique())):\n",
    "\n",
    "        numbers_df.iloc[index, 4] = \"delete2\"\n",
    "        \n",
    "    elif (((row['Start_Pos'] + 1) in land_mine_df[land_mine_df['row']==row['row']-1]['position'].unique()) | \n",
    "        ((row['End_Pos'] - 1) in land_mine_df[land_mine_df['row']==row['row']-1]['position'].unique())):\n",
    "\n",
    "        numbers_df.iloc[index, 4] = \"delete3\"\n",
    "        \n",
    "####"
   ]
  },
  {
   "cell_type": "code",
   "execution_count": 6,
   "id": "ee1f6de5",
   "metadata": {},
   "outputs": [],
   "source": [
    "for index, row in numbers_df.iterrows():\n",
    "#     if index == numbers_df.index.max():\n",
    "#         pass\n",
    "    if (((row['Start_Pos'] - 1) in land_mine_df[land_mine_df['row']==row['row']+1]['position'].unique()) | \n",
    "        ((row['End_Pos'] + 1) in land_mine_df[land_mine_df['row']==row['row']+1]['position'].unique())):\n",
    "\n",
    "        numbers_df.iloc[index, 4] = \"delete1\"\n",
    "\n",
    "    elif (((row['Start_Pos']) in land_mine_df[land_mine_df['row']==row['row']+1]['position'].unique()) | \n",
    "        ((row['End_Pos']) in land_mine_df[land_mine_df['row']==row['row']+1]['position'].unique())):\n",
    "\n",
    "        numbers_df.iloc[index, 4] = \"delete2\"\n",
    "        \n",
    "    elif (((row['Start_Pos'] + 1) in land_mine_df[land_mine_df['row']==row['row']+1]['position'].unique()) | \n",
    "        ((row['End_Pos'] - 1) in land_mine_df[land_mine_df['row']==row['row']+1]['position'].unique())):\n",
    "\n",
    "        numbers_df.iloc[index, 4] = \"delete3\""
   ]
  },
  {
   "cell_type": "code",
   "execution_count": 7,
   "id": "1c24f09a",
   "metadata": {},
   "outputs": [
    {
     "data": {
      "text/plain": [
       "535235"
      ]
     },
     "execution_count": 7,
     "metadata": {},
     "output_type": "execute_result"
    }
   ],
   "source": [
    "numbers_df['Number'] = numbers_df['Number'].astype(int)\n",
    "numbers_df[numbers_df['status'] != 'keep']['Number'].sum()"
   ]
  },
  {
   "cell_type": "code",
   "execution_count": 8,
   "id": "0bdae32a",
   "metadata": {},
   "outputs": [],
   "source": [
    "########### Part 2"
   ]
  },
  {
   "cell_type": "code",
   "execution_count": 9,
   "id": "d53505cd",
   "metadata": {},
   "outputs": [],
   "source": [
    "# ONLY ASTERISKS\n",
    "land_mines = []\n",
    "land_mine_df = pd.DataFrame(columns=['row', 'position'])\n",
    "\n",
    "for index, row in df.iterrows():\n",
    "    current_row_string = row['Data']\n",
    "    \n",
    "    for position, value in enumerate(current_row_string):\n",
    "        if (str(value) == \"*\"):\n",
    "            land_mines.append((index, position))\n",
    "            \n",
    "            land_mine_df.loc[len(land_mine_df.index)] = [index, position] "
   ]
  },
  {
   "cell_type": "code",
   "execution_count": 11,
   "id": "57fcf5f7",
   "metadata": {},
   "outputs": [],
   "source": [
    "numbers_df['status'] = \"\"\n",
    "\n",
    "for index, row in numbers_df.iterrows():\n",
    "    if ((row['Start_Pos'] - 1) in land_mine_df[land_mine_df['row']==row['row']]['position'].unique()):\n",
    "        numbers_df.iloc[index, 4] = str(numbers_df.iloc[index, 4])+str(row['row'])+\"-\"+str(row['Start_Pos']-1)+\",\"\n",
    "        \n",
    "    elif ((row['End_Pos'] + 1) in land_mine_df[land_mine_df['row']==row['row']]['position'].unique()):\n",
    "        numbers_df.iloc[index, 4] = str(numbers_df.iloc[index, 4])+str(row['row'])+\"-\"+str(row['End_Pos']+1)+\",\""
   ]
  },
  {
   "cell_type": "code",
   "execution_count": 12,
   "id": "1267268a",
   "metadata": {},
   "outputs": [],
   "source": [
    "for index, row in numbers_df.iterrows():\n",
    "#     if index == 0:\n",
    "#         pass\n",
    "    \n",
    "    if ((row['Start_Pos'] - 1) in land_mine_df[land_mine_df['row']==row['row']-1]['position'].unique()):\n",
    "        numbers_df.iloc[index, 4] = str(numbers_df.iloc[index, 4])+str(row['row']-1)+\"-\"+str(row['Start_Pos']-1)+\",\"\n",
    "        \n",
    "    elif ((row['End_Pos'] + 1) in land_mine_df[land_mine_df['row']==row['row']-1]['position'].unique()):\n",
    "        numbers_df.iloc[index, 4] = str(numbers_df.iloc[index, 4])+str(row['row']-1)+\"-\"+str(row['End_Pos']+1)+\",\"\n",
    "\n",
    "    elif ((row['Start_Pos']) in land_mine_df[land_mine_df['row']==row['row']-1]['position'].unique()):\n",
    "        numbers_df.iloc[index, 4] = str(numbers_df.iloc[index, 4])+str(row['row']-1)+\"-\"+str(row['Start_Pos'])+\",\"\n",
    "        \n",
    "    elif ((row['End_Pos']) in land_mine_df[land_mine_df['row']==row['row']-1]['position'].unique()):\n",
    "        numbers_df.iloc[index, 4] = str(numbers_df.iloc[index, 4])+str(row['row']-1)+\"-\"+str(row['End_Pos'])+\",\"\n",
    "        \n",
    "    elif ((row['Start_Pos'] + 1) in land_mine_df[land_mine_df['row']==row['row']-1]['position'].unique()):\n",
    "        numbers_df.iloc[index, 4] = str(numbers_df.iloc[index, 4])+str(row['row']-1)+\"-\"+str(row['Start_Pos']+1)+\",\"\n",
    "\n",
    "    elif ((row['End_Pos'] - 1) in land_mine_df[land_mine_df['row']==row['row']-1]['position'].unique()):\n",
    "        numbers_df.iloc[index, 4] = str(numbers_df.iloc[index, 4])+str(row['row']-1)+\"-\"+str(row['End_Pos']-1)+\",\"\n",
    "        \n",
    "####"
   ]
  },
  {
   "cell_type": "code",
   "execution_count": 13,
   "id": "0f82c843",
   "metadata": {},
   "outputs": [],
   "source": [
    "for index, row in numbers_df.iterrows():\n",
    "#     if index == numbers_df.index.max():\n",
    "#         pass\n",
    "    if ((row['Start_Pos'] - 1) in land_mine_df[land_mine_df['row']==row['row']+1]['position'].unique()):\n",
    "        numbers_df.iloc[index, 4] = str(numbers_df.iloc[index, 4])+str(row['row']+1)+\"-\"+str(row['Start_Pos']-1)+\",\"\n",
    "        \n",
    "    elif ((row['End_Pos'] + 1) in land_mine_df[land_mine_df['row']==row['row']+1]['position'].unique()):\n",
    "        numbers_df.iloc[index, 4] = str(numbers_df.iloc[index, 4])+str(row['row']+1)+\"-\"+str(row['End_Pos']+1)+\",\"\n",
    "\n",
    "    elif ((row['Start_Pos']) in land_mine_df[land_mine_df['row']==row['row']+1]['position'].unique()):\n",
    "        numbers_df.iloc[index, 4] = str(numbers_df.iloc[index, 4])+str(row['row']+1)+\"-\"+str(row['Start_Pos'])+\",\"\n",
    "        \n",
    "    elif ((row['End_Pos']) in land_mine_df[land_mine_df['row']==row['row']+1]['position'].unique()):\n",
    "        numbers_df.iloc[index, 4] = str(numbers_df.iloc[index, 4])+str(row['row']+1)+\"-\"+str(row['End_Pos'])+\",\"\n",
    "\n",
    "        \n",
    "    elif ((row['Start_Pos'] + 1) in land_mine_df[land_mine_df['row']==row['row']+1]['position'].unique()):\n",
    "        numbers_df.iloc[index, 4] = str(numbers_df.iloc[index, 4])+str(row['row']+1)+\"-\"+str(row['Start_Pos']+1)+\",\"\n",
    "        \n",
    "    elif ((row['End_Pos'] - 1) in land_mine_df[land_mine_df['row']==row['row']+1]['position'].unique()):\n",
    "        numbers_df.iloc[index, 4] = str(numbers_df.iloc[index, 4])+str(row['row']+1)+\"-\"+str(row['End_Pos']-1)+\",\"\n"
   ]
  },
  {
   "cell_type": "code",
   "execution_count": 14,
   "id": "90f856fb",
   "metadata": {},
   "outputs": [],
   "source": [
    "numbers_df['Number'] = numbers_df['Number'].astype(int)"
   ]
  },
  {
   "cell_type": "code",
   "execution_count": 15,
   "id": "059668c1",
   "metadata": {},
   "outputs": [
    {
     "data": {
      "text/plain": [
       "79844424"
      ]
     },
     "execution_count": 15,
     "metadata": {},
     "output_type": "execute_result"
    }
   ],
   "source": [
    "df2 = numbers_df.groupby(['status']).agg(status_count = (\"status\",\"count\")).reset_index()\n",
    "df3 = numbers_df.merge(df2, on = 'status')\n",
    "df3 = df3[df3.status_count == 2]\n",
    "df3 = df3.groupby(['status']).agg(products = (\"Number\",\"prod\")).reset_index()\n",
    "df3['products'].sum()"
   ]
  },
  {
   "cell_type": "code",
   "execution_count": null,
   "id": "6ef0558d",
   "metadata": {},
   "outputs": [],
   "source": []
  }
 ],
 "metadata": {
  "kernelspec": {
   "display_name": "Python 3 (ipykernel)",
   "language": "python",
   "name": "python3"
  },
  "language_info": {
   "codemirror_mode": {
    "name": "ipython",
    "version": 3
   },
   "file_extension": ".py",
   "mimetype": "text/x-python",
   "name": "python",
   "nbconvert_exporter": "python",
   "pygments_lexer": "ipython3",
   "version": "3.9.12"
  }
 },
 "nbformat": 4,
 "nbformat_minor": 5
}
