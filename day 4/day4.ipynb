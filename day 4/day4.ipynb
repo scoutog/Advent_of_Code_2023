{
 "cells": [
  {
   "cell_type": "code",
   "execution_count": 1,
   "id": "b6045de1",
   "metadata": {},
   "outputs": [],
   "source": [
    "import pandas as pd\n",
    "import re\n",
    "\n",
    "df = pd.read_csv(\"day4_data.csv\")\n",
    "df[['Game','Cards']] = df['Data'].str.split(':',expand=True)\n",
    "df[['Winning_nums','MyNums']] = df['Cards'].str.split('|',expand=True)\n",
    "df = df[['Game','Winning_nums','MyNums']]\n",
    "df[\"Winnings_Scored\"] = 0\n",
    "df[\"Winnings_Num\"] = 0"
   ]
  },
  {
   "cell_type": "code",
   "execution_count": 4,
   "id": "8271fddc",
   "metadata": {},
   "outputs": [],
   "source": [
    "matches = []\n",
    "\n",
    "for index, row in df.iterrows():\n",
    "    current_winning_nums = row['Winning_nums']\n",
    "    current_my_nums = row['MyNums']\n",
    "    \n",
    "    if pd.isna(current_winning_nums) | pd.isna(current_my_nums):\n",
    "        pass\n",
    "    \n",
    "    else:\n",
    "        current_winning_nums_ls = [int(ele) for ele in current_winning_nums.split()]\n",
    "        current_my_nums_ls = [int(ele) for ele in current_my_nums.split()]\n",
    "        \n",
    "        count = 0\n",
    "        for i in current_my_nums_ls:\n",
    "            if i in current_winning_nums_ls:\n",
    "                count += 1\n",
    "        \n",
    "        matches.append(count)\n",
    "        df.iloc[index, 4] = count\n",
    "        \n",
    "        if count == 0:\n",
    "            df.iloc[index, 3] = 0\n",
    "        else:\n",
    "            df.iloc[index, 3] = 2**(count-1)"
   ]
  },
  {
   "cell_type": "code",
   "execution_count": 5,
   "id": "3dfe98da",
   "metadata": {},
   "outputs": [
    {
     "data": {
      "text/plain": [
       "22674"
      ]
     },
     "execution_count": 5,
     "metadata": {},
     "output_type": "execute_result"
    }
   ],
   "source": [
    "#Part 1\n",
    "df.Winnings_Scored.sum()"
   ]
  },
  {
   "cell_type": "code",
   "execution_count": 6,
   "id": "8e99441b",
   "metadata": {},
   "outputs": [],
   "source": [
    "winnings_dict = {}\n",
    "for index, row in df.iterrows():\n",
    "    winnings_dict[index] = df.iloc[index,4]\n",
    "    \n",
    "cards_dict = {}\n",
    "for i in range(len(winnings_dict)):\n",
    "    cards_dict[i] = 1"
   ]
  },
  {
   "cell_type": "code",
   "execution_count": 7,
   "id": "73b17125",
   "metadata": {},
   "outputs": [],
   "source": [
    "for i in range(len(cards_dict)):\n",
    "    current_val = winnings_dict[i]\n",
    "    \n",
    "    iterate = 0\n",
    "    while iterate <= current_val:\n",
    "        if iterate == 0:\n",
    "            iterate+=1\n",
    "            pass\n",
    "        elif (i+iterate) <= len(cards_dict)-1:\n",
    "            cards_dict[i+iterate] = (cards_dict[i+iterate]+cards_dict[i])\n",
    "            iterate+=1\n",
    "        else:\n",
    "            iterate+=1\n",
    "            pass"
   ]
  },
  {
   "cell_type": "code",
   "execution_count": 8,
   "id": "47d66818",
   "metadata": {},
   "outputs": [
    {
     "name": "stdout",
     "output_type": "stream",
     "text": [
      "5747443\n"
     ]
    }
   ],
   "source": [
    "#Part 2\n",
    "sum=0\n",
    "for i in cards_dict.values():\n",
    "    sum = sum + i\n",
    "print(sum)"
   ]
  },
  {
   "cell_type": "code",
   "execution_count": null,
   "id": "6fd97996",
   "metadata": {},
   "outputs": [],
   "source": []
  }
 ],
 "metadata": {
  "kernelspec": {
   "display_name": "Python 3 (ipykernel)",
   "language": "python",
   "name": "python3"
  },
  "language_info": {
   "codemirror_mode": {
    "name": "ipython",
    "version": 3
   },
   "file_extension": ".py",
   "mimetype": "text/x-python",
   "name": "python",
   "nbconvert_exporter": "python",
   "pygments_lexer": "ipython3",
   "version": "3.9.12"
  }
 },
 "nbformat": 4,
 "nbformat_minor": 5
}
