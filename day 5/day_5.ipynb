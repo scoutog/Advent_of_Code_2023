{
 "cells": [
  {
   "cell_type": "code",
   "execution_count": null,
   "id": "891a6013",
   "metadata": {},
   "outputs": [],
   "source": [
    "import pandas as pd\n",
    "import numpy as np\n",
    "from tqdm import tqdm\n",
    "\n",
    "df = pd.read_csv(\"day5_data.csv\")\n",
    "seeds = df.iloc[0:1,]\n",
    "df = df.iloc[1:,].reset_index(drop=True)\n",
    "\n",
    "new_df_ind = []\n",
    "for index, row in df.iterrows():\n",
    "    row = row['Data']\n",
    "    if not row[0].isdigit():\n",
    "        new_df_ind.append(index)\n",
    "        \n",
    "seed2soil = df.iloc[new_df_ind[0]+1:new_df_ind[1],].reset_index(drop=True)\n",
    "soil2fert = df.iloc[new_df_ind[1]+1:new_df_ind[2],].reset_index(drop=True)\n",
    "fert2water = df.iloc[new_df_ind[2]+1:new_df_ind[3],].reset_index(drop=True)\n",
    "water2light = df.iloc[new_df_ind[3]+1:new_df_ind[4],].reset_index(drop=True)\n",
    "light2temp = df.iloc[new_df_ind[4]+1:new_df_ind[5],].reset_index(drop=True)\n",
    "temp2humid = df.iloc[new_df_ind[5]+1:new_df_ind[6],].reset_index(drop=True)\n",
    "humid2loc = df.iloc[new_df_ind[6]+1:,].reset_index(drop=True)"
   ]
  },
  {
   "cell_type": "code",
   "execution_count": null,
   "id": "c759b3e3",
   "metadata": {},
   "outputs": [],
   "source": [
    "final_df = pd.DataFrame(columns = [\"Seed\"])\n",
    "for index, row in seeds.iterrows():\n",
    "    row = row['Data']\n",
    "    row = row.split()\n",
    "    \n",
    "    for i in row:\n",
    "        if i.isdigit():\n",
    "            final_df.loc[len(final_df.index)] = [i]\n",
    "\n",
    "final_df['Seed'] = final_df['Seed'].astype(np.int64)\n",
    "range_of_seeds = range(final_df['Seed'].min(), final_df['Seed'].max()+1, 1)"
   ]
  },
  {
   "cell_type": "code",
   "execution_count": null,
   "id": "06bf6c1c",
   "metadata": {},
   "outputs": [],
   "source": [
    "def expand_dfs(source_df, destination):\n",
    "    new_df = pd.DataFrame(columns = [\"Source\",destination])\n",
    "    for index, row in tqdm(source_df.iterrows()):\n",
    "        row = row['Data']\n",
    "        row = row.split()\n",
    "        row = [eval(i) for i in row]\n",
    "\n",
    "        for i in range(row[2]):\n",
    "            new_df.loc[len(new_df.index)] = [row[1]+i,row[0]+i]\n",
    "\n",
    "    for i in range_of_seeds:\n",
    "        if i not in new_df['Source'].unique():\n",
    "            new_df.loc[len(new_df.index)] = [i,i]\n",
    "    \n",
    "    return new_df"
   ]
  },
  {
   "cell_type": "code",
   "execution_count": null,
   "id": "3d17a849",
   "metadata": {},
   "outputs": [],
   "source": [
    "seed2soil = expand_dfs(seed2soil,\"Soil\")\n",
    "soil2fert = expand_dfs(soil2fert,\"Fert\")\n",
    "fert2water = expand_dfs(fert2water,\"Water\")\n",
    "water2light = expand_dfs(water2light,\"Light\")\n",
    "light2temp = expand_dfs(light2temp,\"Temp\")\n",
    "temp2humid = expand_dfs(temp2humid,\"Humid\")\n",
    "humid2loc = expand_dfs(humid2loc,\"Loc\")"
   ]
  },
  {
   "cell_type": "code",
   "execution_count": null,
   "id": "b44842cf",
   "metadata": {},
   "outputs": [],
   "source": [
    "dataframes = [seed2soil,soil2fert,fert2water,water2light,\n",
    "       light2temp,temp2humid,humid2loc]"
   ]
  },
  {
   "cell_type": "code",
   "execution_count": null,
   "id": "8085aab6",
   "metadata": {},
   "outputs": [],
   "source": [
    "x = final_df.merge(seed2soil, left_on=['Seed'],right_on=['Source'])\n",
    "x = x.drop(columns = ['Source'])\n",
    "\n",
    "x = x.merge(soil2fert, left_on=['Soil'],right_on=['Source'])\n",
    "x = x.drop(columns = ['Source'])\n",
    "\n",
    "x = x.merge(fert2water, left_on=['Fert'],right_on=['Source'])\n",
    "x = x.drop(columns = ['Source'])\n",
    "\n",
    "x = x.merge(water2light, left_on=['Water'],right_on=['Source'])\n",
    "x = x.drop(columns = ['Source'])\n",
    "\n",
    "x = x.merge(light2temp, left_on=['Light'],right_on=['Source'])\n",
    "x = x.drop(columns = ['Source'])\n",
    "\n",
    "x = x.merge(temp2humid, left_on=['Temp'],right_on=['Source'])\n",
    "x = x.drop(columns = ['Source'])\n",
    "\n",
    "x = x.merge(humid2loc, left_on=['Humid'],right_on=['Source'])\n",
    "x = x.drop(columns = ['Source'])"
   ]
  },
  {
   "cell_type": "code",
   "execution_count": null,
   "id": "9298b642",
   "metadata": {},
   "outputs": [],
   "source": [
    "x['Loc'].min()"
   ]
  },
  {
   "cell_type": "code",
   "execution_count": null,
   "id": "b7f5284b",
   "metadata": {},
   "outputs": [],
   "source": []
  }
 ],
 "metadata": {
  "kernelspec": {
   "display_name": "Python 3 (ipykernel)",
   "language": "python",
   "name": "python3"
  },
  "language_info": {
   "codemirror_mode": {
    "name": "ipython",
    "version": 3
   },
   "file_extension": ".py",
   "mimetype": "text/x-python",
   "name": "python",
   "nbconvert_exporter": "python",
   "pygments_lexer": "ipython3",
   "version": "3.9.12"
  }
 },
 "nbformat": 4,
 "nbformat_minor": 5
}
