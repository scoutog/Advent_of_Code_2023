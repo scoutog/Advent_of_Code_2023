{
 "cells": [
  {
   "cell_type": "code",
   "execution_count": 1,
   "id": "533e81a9",
   "metadata": {},
   "outputs": [],
   "source": [
    "import pandas as pd\n",
    "import re\n",
    "df = pd.read_csv(\"day6_data.csv\")\n",
    "\n",
    "df = df.transpose().reset_index()\n",
    "df[['drop','time']] = df[0].str.split(':',expand=True)\n",
    "df[['drop2','distance']] = df[1].str.split(':',expand=True)\n",
    "df = df[['time','distance']].reset_index(drop=True)"
   ]
  },
  {
   "cell_type": "code",
   "execution_count": 2,
   "id": "c576c036",
   "metadata": {},
   "outputs": [],
   "source": [
    "for index, row in df.iterrows():\n",
    "    \n",
    "    time = row['time']\n",
    "    distance = row['distance']\n",
    "    \n",
    "time = time.split()\n",
    "distance = distance.split()\n",
    "\n",
    "time = [eval(i) for i in time]\n",
    "distance = [eval(i) for i in distance]"
   ]
  },
  {
   "cell_type": "code",
   "execution_count": 3,
   "id": "a0b1a70c",
   "metadata": {},
   "outputs": [],
   "source": [
    "index = 0\n",
    "wins_ls = []\n",
    "\n",
    "for i in time:\n",
    "    hold_time = 0\n",
    "    wins = 0\n",
    "    \n",
    "    while hold_time <= i:\n",
    "        distance_travelled = (hold_time)*(i-hold_time)\n",
    "        if distance_travelled > distance[index]:\n",
    "            wins += 1\n",
    "            \n",
    "        hold_time += 1\n",
    "        \n",
    "    wins_ls.append(wins)\n",
    "    index+=1"
   ]
  },
  {
   "cell_type": "code",
   "execution_count": 4,
   "id": "f1865d93",
   "metadata": {},
   "outputs": [
    {
     "data": {
      "text/plain": [
       "2756160"
      ]
     },
     "execution_count": 4,
     "metadata": {},
     "output_type": "execute_result"
    }
   ],
   "source": [
    "submission = 1\n",
    "\n",
    "for i in wins_ls:\n",
    "    submission = submission*i\n",
    "submission"
   ]
  },
  {
   "cell_type": "code",
   "execution_count": 5,
   "id": "c2dbd369",
   "metadata": {},
   "outputs": [],
   "source": [
    "# Part 2"
   ]
  },
  {
   "cell_type": "code",
   "execution_count": 6,
   "id": "7f5bece3",
   "metadata": {},
   "outputs": [],
   "source": [
    "for index, row in df.iterrows():\n",
    "    time = row['time']\n",
    "    distance = row['distance']\n",
    "    \n",
    "time = int(time.replace(\" \", \"\"))\n",
    "distance = int(distance.replace(\" \", \"\"))"
   ]
  },
  {
   "cell_type": "code",
   "execution_count": 7,
   "id": "70aa18e9",
   "metadata": {},
   "outputs": [
    {
     "name": "stdout",
     "output_type": "stream",
     "text": [
      "Time: 48938595\n",
      "Distance: 296192812361391\n"
     ]
    }
   ],
   "source": [
    "print(f\"Time: {time}\\nDistance: {distance}\")"
   ]
  },
  {
   "cell_type": "code",
   "execution_count": 8,
   "id": "917efb32",
   "metadata": {},
   "outputs": [
    {
     "name": "stderr",
     "output_type": "stream",
     "text": [
      "100%|██████████| 48938595/48938595 [00:18<00:00, 2611532.11it/s]\n"
     ]
    }
   ],
   "source": [
    "from tqdm import tqdm\n",
    "hold_time = 0\n",
    "wins = 0\n",
    "    \n",
    "for hold_time in tqdm(range(time)):\n",
    "    distance_travelled = (hold_time)*(time-hold_time)\n",
    "    if distance_travelled > distance:\n",
    "        wins += 1\n",
    "\n",
    "    hold_time += 1"
   ]
  },
  {
   "cell_type": "code",
   "execution_count": 9,
   "id": "0a701219",
   "metadata": {},
   "outputs": [
    {
     "data": {
      "text/plain": [
       "34788142"
      ]
     },
     "execution_count": 9,
     "metadata": {},
     "output_type": "execute_result"
    }
   ],
   "source": [
    "wins"
   ]
  },
  {
   "cell_type": "code",
   "execution_count": null,
   "id": "d399c016",
   "metadata": {},
   "outputs": [],
   "source": []
  }
 ],
 "metadata": {
  "kernelspec": {
   "display_name": "Python 3 (ipykernel)",
   "language": "python",
   "name": "python3"
  },
  "language_info": {
   "codemirror_mode": {
    "name": "ipython",
    "version": 3
   },
   "file_extension": ".py",
   "mimetype": "text/x-python",
   "name": "python",
   "nbconvert_exporter": "python",
   "pygments_lexer": "ipython3",
   "version": "3.9.12"
  }
 },
 "nbformat": 4,
 "nbformat_minor": 5
}
