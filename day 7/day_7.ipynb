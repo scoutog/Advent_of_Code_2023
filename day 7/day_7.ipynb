{
 "cells": [
  {
   "cell_type": "code",
   "execution_count": 146,
   "id": "2b896925",
   "metadata": {},
   "outputs": [],
   "source": [
    "import pandas as pd\n",
    "df = pd.read_csv(\"day7_data.csv\")\n",
    "df[['hand','wager']] = df['Data'].str.split(' ',expand=True)\n",
    "df = df[['hand','wager']]\n",
    "df['wager'] = df['wager'].astype(int)\n",
    "df['type'] = 0"
   ]
  },
  {
   "cell_type": "code",
   "execution_count": 147,
   "id": "60442ca1",
   "metadata": {},
   "outputs": [],
   "source": [
    "for index, row in df.iterrows():\n",
    "    hand = row['hand']\n",
    "    \n",
    "    hand_dict = {}\n",
    "    for i in hand:\n",
    "        if i in hand_dict.keys():\n",
    "            hand_dict[i] = hand_dict[i]+1\n",
    "        else:\n",
    "            hand_dict[i] = 1\n",
    "\n",
    "    two_counter=0\n",
    "    for key in hand_dict:\n",
    "        if hand_dict[key] == 2:\n",
    "            two_counter+=1\n",
    "            \n",
    "    if 5 in hand_dict.values():\n",
    "        df.iloc[index,2] = 7\n",
    "    elif 4 in hand_dict.values():\n",
    "        df.iloc[index,2] = 6\n",
    "    elif (3 in hand_dict.values()) & (2 in hand_dict.values()):\n",
    "        df.iloc[index,2] = 5\n",
    "    elif 3 in hand_dict.values():\n",
    "        df.iloc[index,2] = 4\n",
    "    elif two_counter == 2:\n",
    "        df.iloc[index,2] = 3\n",
    "    elif 2 in hand_dict.values():\n",
    "        df.iloc[index,2] = 2\n",
    "    elif 1 in hand_dict.values():\n",
    "        df.iloc[index,2] = 1"
   ]
  },
  {
   "cell_type": "code",
   "execution_count": 148,
   "id": "b98b5b5a",
   "metadata": {},
   "outputs": [],
   "source": [
    "df['place_1'] = 0\n",
    "df['place_2'] = 0\n",
    "df['place_3'] = 0\n",
    "df['place_4'] = 0\n",
    "df['place_5'] = 0"
   ]
  },
  {
   "cell_type": "code",
   "execution_count": 149,
   "id": "34c6be3c",
   "metadata": {},
   "outputs": [],
   "source": [
    "for index, row in df.iterrows():\n",
    "    hand = row['hand'] \n",
    "    \n",
    "    for i in range(len(hand)):\n",
    "        if hand[i] == 'A':\n",
    "            df.iloc[index,3+i] = 14\n",
    "        elif hand[i] == 'K':\n",
    "            df.iloc[index,3+i] = 13\n",
    "        elif hand[i] == 'Q':\n",
    "            df.iloc[index,3+i] = 12\n",
    "        elif hand[i] == 'J':\n",
    "            df.iloc[index,3+i] = 11\n",
    "        elif hand[i] == 'T':\n",
    "            df.iloc[index,3+i] = 10\n",
    "        else:\n",
    "            df.iloc[index,3+i] = int(hand[i])"
   ]
  },
  {
   "cell_type": "code",
   "execution_count": 150,
   "id": "a5f20bb1",
   "metadata": {},
   "outputs": [],
   "source": [
    "df = df.sort_values(by=['type', 'place_1', 'place_2',  \n",
    "                        'place_3',  'place_4',  'place_5'], ascending=False).reset_index(drop=True)"
   ]
  },
  {
   "cell_type": "code",
   "execution_count": 151,
   "id": "c909f043",
   "metadata": {},
   "outputs": [],
   "source": [
    "df['rank'] = 0\n",
    "num = len(df)\n",
    "for i in range(len(df)):\n",
    "    df.iloc[i,8] = num\n",
    "    num = num - 1"
   ]
  },
  {
   "cell_type": "code",
   "execution_count": 152,
   "id": "5c6656cd",
   "metadata": {},
   "outputs": [
    {
     "data": {
      "text/plain": [
       "246424613"
      ]
     },
     "execution_count": 152,
     "metadata": {},
     "output_type": "execute_result"
    }
   ],
   "source": [
    "df['winnings'] = df['wager'] * df['rank']\n",
    "df['winnings'].sum()"
   ]
  },
  {
   "cell_type": "code",
   "execution_count": 198,
   "id": "180b8e3a",
   "metadata": {},
   "outputs": [],
   "source": [
    "# Part 2"
   ]
  },
  {
   "cell_type": "code",
   "execution_count": 243,
   "id": "da33a7fc",
   "metadata": {},
   "outputs": [],
   "source": [
    "import pandas as pd\n",
    "df = pd.read_csv(\"day7_data.csv\")\n",
    "df[['hand','wager']] = df['Data'].str.split(' ',expand=True)\n",
    "df = df[['hand','wager']]\n",
    "df['wager'] = df['wager'].astype(int)\n",
    "df['type'] = 0"
   ]
  },
  {
   "cell_type": "code",
   "execution_count": 245,
   "id": "07351b82",
   "metadata": {},
   "outputs": [],
   "source": [
    "for index, row in df.iterrows():\n",
    "    hand = row['hand']\n",
    "    \n",
    "    hand_dict = {}\n",
    "    for i in hand:\n",
    "        if i in hand_dict.keys():\n",
    "            hand_dict[i] = hand_dict[i]+1\n",
    "        else:\n",
    "            hand_dict[i] = 1\n",
    "            \n",
    "    joker_value = 0\n",
    "    \n",
    "    if \"J\" in hand_dict:\n",
    "        joker_value = hand_dict['J']\n",
    "        del hand_dict['J']\n",
    "    \n",
    "    if len(hand_dict) == 0:\n",
    "        hand_dict['A'] = 5\n",
    "    else:\n",
    "        max_pair = max(hand_dict, key=hand_dict.get)\n",
    "        hand_dict[max_pair] = hand_dict[max_pair] + joker_value\n",
    "\n",
    "    two_counter=0\n",
    "    for key in hand_dict:\n",
    "        if hand_dict[key] == 2:\n",
    "            two_counter+=1\n",
    "            \n",
    "    if 5 in hand_dict.values():\n",
    "        df.iloc[index,2] = 7\n",
    "    elif 4 in hand_dict.values():\n",
    "        df.iloc[index,2] = 6\n",
    "    elif (3 in hand_dict.values()) & (2 in hand_dict.values()):\n",
    "        df.iloc[index,2] = 5\n",
    "    elif 3 in hand_dict.values():\n",
    "        df.iloc[index,2] = 4\n",
    "    elif two_counter == 2:\n",
    "        df.iloc[index,2] = 3\n",
    "    elif 2 in hand_dict.values():\n",
    "        df.iloc[index,2] = 2\n",
    "    elif 1 in hand_dict.values():\n",
    "        df.iloc[index,2] = 1"
   ]
  },
  {
   "cell_type": "code",
   "execution_count": 246,
   "id": "bbd1c149",
   "metadata": {},
   "outputs": [],
   "source": [
    "df['place_1'] = 0\n",
    "df['place_2'] = 0\n",
    "df['place_3'] = 0\n",
    "df['place_4'] = 0\n",
    "df['place_5'] = 0"
   ]
  },
  {
   "cell_type": "code",
   "execution_count": 247,
   "id": "cb7d7004",
   "metadata": {},
   "outputs": [],
   "source": [
    "for index, row in df.iterrows():\n",
    "    hand = row['hand'] \n",
    "    \n",
    "    for i in range(len(hand)):\n",
    "        if hand[i] == 'A':\n",
    "            df.iloc[index,3+i] = 14\n",
    "        elif hand[i] == 'K':\n",
    "            df.iloc[index,3+i] = 13\n",
    "        elif hand[i] == 'Q':\n",
    "            df.iloc[index,3+i] = 12\n",
    "        elif hand[i] == 'J':\n",
    "            df.iloc[index,3+i] = 1\n",
    "        elif hand[i] == 'T':\n",
    "            df.iloc[index,3+i] = 10\n",
    "        else:\n",
    "            df.iloc[index,3+i] = int(hand[i])"
   ]
  },
  {
   "cell_type": "code",
   "execution_count": 248,
   "id": "cd97d645",
   "metadata": {},
   "outputs": [],
   "source": [
    "df = df.sort_values(by=['type', 'place_1', 'place_2',  \n",
    "                        'place_3',  'place_4',  'place_5'], ascending=False).reset_index(drop=True)"
   ]
  },
  {
   "cell_type": "code",
   "execution_count": 249,
   "id": "2cd2ecb0",
   "metadata": {},
   "outputs": [],
   "source": [
    "df['rank'] = 0\n",
    "num = len(df)\n",
    "for i in range(len(df)):\n",
    "    df.iloc[i,8] = num\n",
    "    num = num - 1"
   ]
  },
  {
   "cell_type": "code",
   "execution_count": 250,
   "id": "815e30eb",
   "metadata": {},
   "outputs": [
    {
     "data": {
      "text/plain": [
       "248256639"
      ]
     },
     "execution_count": 250,
     "metadata": {},
     "output_type": "execute_result"
    }
   ],
   "source": [
    "df['winnings'] = df['wager'] * df['rank']\n",
    "df['winnings'].sum()"
   ]
  },
  {
   "cell_type": "code",
   "execution_count": null,
   "id": "3769f4f2",
   "metadata": {},
   "outputs": [],
   "source": []
  }
 ],
 "metadata": {
  "kernelspec": {
   "display_name": "Python 3 (ipykernel)",
   "language": "python",
   "name": "python3"
  },
  "language_info": {
   "codemirror_mode": {
    "name": "ipython",
    "version": 3
   },
   "file_extension": ".py",
   "mimetype": "text/x-python",
   "name": "python",
   "nbconvert_exporter": "python",
   "pygments_lexer": "ipython3",
   "version": "3.9.12"
  }
 },
 "nbformat": 4,
 "nbformat_minor": 5
}
