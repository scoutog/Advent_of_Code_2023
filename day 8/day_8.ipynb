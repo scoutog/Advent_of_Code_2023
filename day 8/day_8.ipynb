{
 "cells": [
  {
   "cell_type": "code",
   "execution_count": 1,
   "id": "952bfe38",
   "metadata": {},
   "outputs": [],
   "source": [
    "import pandas as pd\n",
    "df = pd.read_csv(\"day8_data.csv\")\n",
    "\n",
    "directions = df.iloc[0:1,0].item()\n",
    "mappings = df.iloc[1:,].reset_index(drop=True)\n",
    "\n",
    "mappings[['origin','mapping']] = mappings['Data'].str.split(' = ',expand=True)\n",
    "mappings[['left','right']] = mappings['mapping'].str.split(', ',expand=True)\n",
    "mappings['left'] = mappings['left'].map(lambda x: x.lstrip('('))\n",
    "mappings['right'] = mappings['right'].map(lambda x: x.rstrip(')'))\n",
    "mappings = mappings[['origin','left','right']]\n",
    "df = mappings.copy()"
   ]
  },
  {
   "cell_type": "code",
   "execution_count": 2,
   "id": "ce777a7c",
   "metadata": {},
   "outputs": [],
   "source": [
    "current_location = 'AAA'\n",
    "left_or_right = 'start'\n",
    "step_counter = 0\n",
    "\n",
    "while current_location != 'ZZZ':\n",
    "    direction_index = step_counter % len(directions)\n",
    "    left_or_right = directions[direction_index]\n",
    "\n",
    "    if left_or_right == 'L':\n",
    "        current_location = df.loc[df['origin'] == current_location, 'left'].item()\n",
    "\n",
    "    else:\n",
    "        current_location = df.loc[df['origin'] == current_location, 'right'].item()\n",
    "\n",
    "    step_counter += 1"
   ]
  },
  {
   "cell_type": "code",
   "execution_count": 3,
   "id": "25ac26e6",
   "metadata": {},
   "outputs": [
    {
     "data": {
      "text/plain": [
       "19637"
      ]
     },
     "execution_count": 3,
     "metadata": {},
     "output_type": "execute_result"
    }
   ],
   "source": [
    "step_counter"
   ]
  },
  {
   "cell_type": "code",
   "execution_count": 4,
   "id": "69e47367",
   "metadata": {},
   "outputs": [],
   "source": [
    "# Part 2"
   ]
  },
  {
   "cell_type": "code",
   "execution_count": 5,
   "id": "89404097",
   "metadata": {},
   "outputs": [],
   "source": [
    "def steps_taken(start_loc):\n",
    "    current_location = start_loc\n",
    "    left_or_right = 'start'\n",
    "    step_counter = 0\n",
    "\n",
    "    while not current_location.endswith(\"Z\"):\n",
    "        direction_index = step_counter % len(directions)\n",
    "        left_or_right = directions[direction_index]\n",
    "\n",
    "        if left_or_right == 'L':\n",
    "            current_location = df.loc[df['origin'] == current_location, 'left'].item()\n",
    "\n",
    "        else:\n",
    "            current_location = df.loc[df['origin'] == current_location, 'right'].item()\n",
    "\n",
    "        step_counter += 1\n",
    "    \n",
    "    return step_counter"
   ]
  },
  {
   "cell_type": "code",
   "execution_count": 6,
   "id": "6d201d3f",
   "metadata": {},
   "outputs": [],
   "source": [
    "# Hard-Coded\n",
    "current_loc_1 = 'AAA'\n",
    "current_loc_2 = 'GSA'\n",
    "current_loc_3 = 'QGA'\n",
    "current_loc_4 = 'LHA'\n",
    "current_loc_5 = 'LBA'\n",
    "current_loc_6 = 'XCA'\n",
    "\n",
    "locs = [current_loc_1,current_loc_2,current_loc_3,\n",
    "       current_loc_4,current_loc_5,current_loc_6]\n",
    "\n",
    "ls = []\n",
    "for loc in locs:\n",
    "    x = steps_taken(loc)\n",
    "    ls.append(x)"
   ]
  },
  {
   "cell_type": "code",
   "execution_count": 7,
   "id": "05ce0c9a",
   "metadata": {},
   "outputs": [
    {
     "name": "stdout",
     "output_type": "stream",
     "text": [
      "8811050362409\n"
     ]
    }
   ],
   "source": [
    "from math import gcd\n",
    "lcm = 1\n",
    "for i in ls:\n",
    "    lcm = lcm*i//gcd(lcm, i)\n",
    "print(lcm)"
   ]
  },
  {
   "cell_type": "code",
   "execution_count": null,
   "id": "b8921b44",
   "metadata": {},
   "outputs": [],
   "source": []
  }
 ],
 "metadata": {
  "kernelspec": {
   "display_name": "Python 3 (ipykernel)",
   "language": "python",
   "name": "python3"
  },
  "language_info": {
   "codemirror_mode": {
    "name": "ipython",
    "version": 3
   },
   "file_extension": ".py",
   "mimetype": "text/x-python",
   "name": "python",
   "nbconvert_exporter": "python",
   "pygments_lexer": "ipython3",
   "version": "3.7.11"
  }
 },
 "nbformat": 4,
 "nbformat_minor": 5
}
