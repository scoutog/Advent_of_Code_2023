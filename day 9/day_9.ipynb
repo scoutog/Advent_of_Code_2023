{
 "cells": [
  {
   "cell_type": "code",
   "execution_count": null,
   "id": "c0a0f2fe",
   "metadata": {},
   "outputs": [],
   "source": [
    "import pandas as pd\n",
    "df = pd.read_csv('day9_data.csv')"
   ]
  },
  {
   "cell_type": "code",
   "execution_count": null,
   "id": "aa3d9493",
   "metadata": {},
   "outputs": [],
   "source": [
    "def gen_dicts(ls):\n",
    "    checker = False\n",
    "    counter = 0 \n",
    "    dict = {}\n",
    "    dict[0] = ls\n",
    "\n",
    "    while checker is False:\n",
    "        if counter == 0:\n",
    "            old_ls = ls\n",
    "        else:\n",
    "            old_ls = new_ls\n",
    "\n",
    "        new_ls = []\n",
    "\n",
    "        for i in range(len(old_ls)-1):\n",
    "            new_ls.append(old_ls[i+1] - old_ls[i])\n",
    "\n",
    "        if all(i == 0 for i in new_ls):\n",
    "            checker = True\n",
    "\n",
    "        dict[counter+1] = new_ls\n",
    "        counter += 1\n",
    "    \n",
    "    return dict"
   ]
  },
  {
   "cell_type": "code",
   "execution_count": null,
   "id": "38a4ef52",
   "metadata": {},
   "outputs": [],
   "source": [
    "def gen_new_element(dict):\n",
    "    max_dict = max(list(dict.keys()))\n",
    "    i = max_dict\n",
    "\n",
    "    while i >= 0:\n",
    "        if i == max_dict:\n",
    "            dict[i].append(0)\n",
    "        else:\n",
    "            val1 = int(dict[i][len(dict[i])-1])\n",
    "            val2 = int(dict[i+1][len(dict[i+1])-1])\n",
    "            val = val1 + val2\n",
    "            dict[i].append(val)\n",
    "        i -= 1\n",
    "        \n",
    "    return int(dict[0][-1])"
   ]
  },
  {
   "cell_type": "code",
   "execution_count": null,
   "id": "0304bc2b",
   "metadata": {},
   "outputs": [],
   "source": [
    "ls = [10,13,16,21,30,45]\n",
    "dict = gen_dicts(ls)\n",
    "ans = gen_new_element(dict)\n",
    "ans"
   ]
  },
  {
   "cell_type": "code",
   "execution_count": null,
   "id": "9c3ae57e",
   "metadata": {},
   "outputs": [],
   "source": [
    "ans_ls = []\n",
    "for index, row in df.iterrows():\n",
    "    ls = row['Data']\n",
    "    ls = [int(i) for i in ls.split()]\n",
    "    \n",
    "    dict = gen_dicts(ls)\n",
    "    ans = gen_new_element(dict)\n",
    "    ans_ls.append(ans)\n",
    "\n",
    "sum(ans_ls)"
   ]
  },
  {
   "cell_type": "code",
   "execution_count": null,
   "id": "e0906fe0",
   "metadata": {},
   "outputs": [],
   "source": [
    "# Part 2"
   ]
  },
  {
   "cell_type": "code",
   "execution_count": null,
   "id": "7a11f9c9",
   "metadata": {},
   "outputs": [],
   "source": [
    "def gen_new_element(dict):\n",
    "    max_dict = max(list(dict.keys()))\n",
    "    i = max_dict\n",
    "\n",
    "    while i >= 0:\n",
    "        if i == max_dict:\n",
    "            dict[i].insert(0,0)\n",
    "        else:\n",
    "            val1 = int(dict[i][0])\n",
    "            val2 = int(dict[i+1][0])\n",
    "            val = val1 - val2\n",
    "            dict[i].insert(0,val)\n",
    "        i -= 1\n",
    "        \n",
    "    return int(dict[0][0])"
   ]
  },
  {
   "cell_type": "code",
   "execution_count": null,
   "id": "ec6aea34",
   "metadata": {},
   "outputs": [],
   "source": [
    "ans_ls = []\n",
    "for index, row in df.iterrows():\n",
    "    ls = row['Data']\n",
    "    ls = [int(i) for i in ls.split()]\n",
    "    \n",
    "    dict = gen_dicts(ls)\n",
    "    ans = gen_new_element(dict)\n",
    "    ans_ls.append(ans)\n",
    "\n",
    "sum(ans_ls)"
   ]
  },
  {
   "cell_type": "code",
   "execution_count": null,
   "id": "ac6f73db",
   "metadata": {},
   "outputs": [],
   "source": []
  }
 ],
 "metadata": {
  "kernelspec": {
   "display_name": "Python 3 (ipykernel)",
   "language": "python",
   "name": "python3"
  },
  "language_info": {
   "codemirror_mode": {
    "name": "ipython",
    "version": 3
   },
   "file_extension": ".py",
   "mimetype": "text/x-python",
   "name": "python",
   "nbconvert_exporter": "python",
   "pygments_lexer": "ipython3",
   "version": "3.7.11"
  }
 },
 "nbformat": 4,
 "nbformat_minor": 5
}
